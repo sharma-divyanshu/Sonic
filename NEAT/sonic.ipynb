{
 "cells": [
  {
   "cell_type": "code",
   "execution_count": 1,
   "metadata": {},
   "outputs": [
    {
     "name": "stdout",
     "output_type": "stream",
     "text": [
      "Collecting neat-python\n",
      "  Using cached https://files.pythonhosted.org/packages/96/6f/e7074d9c869174c9b7379bd5820f8a774382937053a92c024f0a159e3e05/neat_python-0.92-py3-none-any.whl\n",
      "Installing collected packages: neat-python\n",
      "Successfully installed neat-python-0.92\n",
      "\u001b[33mYou are using pip version 10.0.1, however version 18.1 is available.\n",
      "You should consider upgrading via the 'pip install --upgrade pip' command.\u001b[0m\n",
      "Collecting gym-retro\n",
      "\u001b[?25l  Downloading https://files.pythonhosted.org/packages/d4/75/bf8128550a6c85b7b2f692ae58ad21f3dbd9d85ecfc3e123e397f9157db6/gym_retro-0.6.0-cp37-cp37m-manylinux1_x86_64.whl (158.7MB)\n",
      "\u001b[K    100% |████████████████████████████████| 158.7MB 457kB/s eta 0:00:01 4% |█▋                              | 7.8MB 18.4MB/s eta 0:00:09    33% |██████████▉                     | 53.8MB 18.1MB/s eta 0:00:06    64% |████████████████████▊           | 102.9MB 19.2MB/s eta 0:00:03    93% |██████████████████████████████  | 148.6MB 18.8MB/s eta 0:00:01\n",
      "\u001b[?25hCollecting gym (from gym-retro)\n",
      "  Using cached https://files.pythonhosted.org/packages/d4/22/4ff09745ade385ffe707fb5f053548f0f6a6e7d5e98a2b9d6c07f5b931a7/gym-0.10.9.tar.gz\n",
      "Collecting scipy (from gym->gym-retro)\n",
      "  Using cached https://files.pythonhosted.org/packages/80/39/066ecde98f373430bf7a39a02d91c7075b01ef4fc928456e8e31577342d6/scipy-1.2.0-cp37-cp37m-manylinux1_x86_64.whl\n",
      "Collecting numpy>=1.10.4 (from gym->gym-retro)\n",
      "  Using cached https://files.pythonhosted.org/packages/38/39/f73e104d44f19a6203e786d5204532e214443ea2954917b27f3229e7639b/numpy-1.15.4-cp37-cp37m-manylinux1_x86_64.whl\n",
      "Collecting requests>=2.0 (from gym->gym-retro)\n",
      "  Using cached https://files.pythonhosted.org/packages/7d/e3/20f3d364d6c8e5d2353c72a67778eb189176f08e873c9900e10c0287b84b/requests-2.21.0-py2.py3-none-any.whl\n",
      "Requirement already satisfied: six in ./lib/python3.7/site-packages (from gym->gym-retro) (1.12.0)\n",
      "Collecting pyglet>=1.2.0 (from gym->gym-retro)\n",
      "  Using cached https://files.pythonhosted.org/packages/1c/fc/dad5eaaab68f0c21e2f906a94ddb98175662cc5a654eee404d59554ce0fa/pyglet-1.3.2-py2.py3-none-any.whl\n",
      "Collecting certifi>=2017.4.17 (from requests>=2.0->gym->gym-retro)\n",
      "  Using cached https://files.pythonhosted.org/packages/9f/e0/accfc1b56b57e9750eba272e24c4dddeac86852c2bebd1236674d7887e8a/certifi-2018.11.29-py2.py3-none-any.whl\n",
      "Collecting urllib3<1.25,>=1.21.1 (from requests>=2.0->gym->gym-retro)\n",
      "  Using cached https://files.pythonhosted.org/packages/62/00/ee1d7de624db8ba7090d1226aebefab96a2c71cd5cfa7629d6ad3f61b79e/urllib3-1.24.1-py2.py3-none-any.whl\n",
      "Collecting idna<2.9,>=2.5 (from requests>=2.0->gym->gym-retro)\n",
      "  Using cached https://files.pythonhosted.org/packages/14/2c/cd551d81dbe15200be1cf41cd03869a46fe7226e7450af7a6545bfc474c9/idna-2.8-py2.py3-none-any.whl\n",
      "Collecting chardet<3.1.0,>=3.0.2 (from requests>=2.0->gym->gym-retro)\n",
      "  Using cached https://files.pythonhosted.org/packages/bc/a9/01ffebfb562e4274b6487b4bb1ddec7ca55ec7510b22e4c51f14098443b8/chardet-3.0.4-py2.py3-none-any.whl\n",
      "Collecting future (from pyglet>=1.2.0->gym->gym-retro)\n",
      "  Using cached https://files.pythonhosted.org/packages/90/52/e20466b85000a181e1e144fd8305caf2cf475e2f9674e797b222f8105f5f/future-0.17.1.tar.gz\n",
      "Installing collected packages: numpy, scipy, certifi, urllib3, idna, chardet, requests, future, pyglet, gym, gym-retro\n",
      "  Running setup.py install for future ... \u001b[?25ldone\n",
      "\u001b[?25h  Running setup.py install for gym ... \u001b[?25ldone\n",
      "\u001b[?25hSuccessfully installed certifi-2018.11.29 chardet-3.0.4 future-0.17.1 gym-0.10.9 gym-retro-0.6.0 idna-2.8 numpy-1.15.4 pyglet-1.3.2 requests-2.21.0 scipy-1.2.0 urllib3-1.24.1\n",
      "\u001b[33mYou are using pip version 10.0.1, however version 18.1 is available.\n",
      "You should consider upgrading via the 'pip install --upgrade pip' command.\u001b[0m\n",
      "Requirement already satisfied: numpy in ./lib/python3.7/site-packages (1.15.4)\n",
      "\u001b[33mYou are using pip version 10.0.1, however version 18.1 is available.\n",
      "You should consider upgrading via the 'pip install --upgrade pip' command.\u001b[0m\n",
      "Collecting cloudpickle\n",
      "  Using cached https://files.pythonhosted.org/packages/fc/87/7b7ef3038b4783911e3fdecb5c566e3a817ce3e890e164fc174c088edb1e/cloudpickle-0.6.1-py2.py3-none-any.whl\n",
      "Installing collected packages: cloudpickle\n",
      "Successfully installed cloudpickle-0.6.1\n",
      "\u001b[33mYou are using pip version 10.0.1, however version 18.1 is available.\n",
      "You should consider upgrading via the 'pip install --upgrade pip' command.\u001b[0m\n",
      "Collecting opencv-python\n",
      "\u001b[?25l  Downloading https://files.pythonhosted.org/packages/0a/73/6e8fe7a546678727b0d7f61d952f3421b155374c027403ed79e099b47c3d/opencv_python-3.4.5.20-cp37-cp37m-manylinux1_x86_64.whl (25.4MB)\n",
      "\u001b[K    100% |████████████████████████████████| 25.4MB 1.6MB/s eta 0:00:01\n",
      "\u001b[?25hRequirement already satisfied: numpy>=1.14.5 in ./lib/python3.7/site-packages (from opencv-python) (1.15.4)\n",
      "Installing collected packages: opencv-python\n",
      "Successfully installed opencv-python-3.4.5.20\n",
      "\u001b[33mYou are using pip version 10.0.1, however version 18.1 is available.\n",
      "You should consider upgrading via the 'pip install --upgrade pip' command.\u001b[0m\n"
     ]
    }
   ],
   "source": [
    "# Install a bunch of libraries\n",
    "!pip install neat-python\n",
    "!pip install gym-retro\n",
    "!pip install numpy\n",
    "!pip install cloudpickle\n",
    "!pip install opencv-python\n"
   ]
  },
  {
   "cell_type": "code",
   "execution_count": 2,
   "metadata": {},
   "outputs": [],
   "source": [
    "# ow you'll need to import all the libraries\n",
    "import numpy as np\n",
    "import retro\n",
    "import neat\n",
    "import pickle\n",
    "import cv2"
   ]
  },
  {
   "cell_type": "code",
   "execution_count": 3,
   "metadata": {},
   "outputs": [
    {
     "name": "stdout",
     "output_type": "stream",
     "text": [
      "Importing 10 potential games...\n",
      "Importing SonicTheHedgehog3-Genesis\n",
      "Imported 1 games\n"
     ]
    }
   ],
   "source": [
    " # now you'll need to import your roms\n",
    "# use python -m retro.import and point it at the folder with your roms. \n",
    "# shasum's of the games need to match those in \n",
    "!python -m retro.import ~/games/Roms/Genesis"
   ]
  },
  {
   "cell_type": "code",
   "execution_count": 4,
   "metadata": {},
   "outputs": [],
   "source": [
    "# Create the environment: Name of folder where rom has been imported, Name of state, where to put recordings\n",
    "env = retro.make(\"SonicTheHedgehog3-Genesis\", \"Level1\") \n",
    "# if you want training to create bk2 files that you can convert into mp4 vidoes using \n",
    "# this command in a termianl: python -m retro.scripts.playback_movie <name-of-some-bk2-file.bk2>, use\n",
    "# the following env line instead\n",
    "# env = retro.make(\"SonicTheHedgehog3-Genesis\", \"Level1\", record='.') "
   ]
  },
  {
   "cell_type": "code",
   "execution_count": 5,
   "metadata": {},
   "outputs": [],
   "source": [
    "# This is function that calculates the fitness of each genome in the neat-python Population\n",
    "\n",
    "def eval_genomes(genomes, config):\n",
    "    imgarray = []\n",
    "    xpos_end = 0\n",
    "\n",
    "# It loops through each genome in the genomes popuation (created in the next cell)\n",
    "    for genome_id, genome in genomes:\n",
    "        ob = env.reset()\n",
    "        ac = env.action_space.sample()\n",
    "#         print(ob.shape)\n",
    "        iny, inx, inc = env.observation_space.shape\n",
    "        inx = int(inx/8)\n",
    "        iny = int(iny/8)\n",
    "# this line creates the kind of network you to use. The other main option is:\n",
    "# net = neat.nn.FeedForwardNetwork.create(genome, config)\n",
    "\n",
    "        net = neat.nn.recurrent.RecurrentNetwork.create(genome, config)\n",
    "        \n",
    "# initialize some variables\n",
    "        current_max_fitness = 0\n",
    "        fitness_current = 0\n",
    "        frame = 0\n",
    "        counter = 0\n",
    "        xpos = 0\n",
    "        xpos_max = 0\n",
    "        \n",
    "        done = False\n",
    "\n",
    "        while not done:            \n",
    "\n",
    "            frame += 1\n",
    "            ob = cv2.resize(ob, (inx, iny))\n",
    "            ob = cv2.cvtColor(ob, cv2.COLOR_BGR2GRAY)\n",
    "            ob = np.reshape(ob, (inx,iny))\n",
    "            \n",
    "# The following line lets you watch while training. Commenting it out will speed things up,\n",
    "# but you wont be able see while it learns. Either way, you can still use playback.py to watch \n",
    "# the 'winner.pkl' file after training has completed. \n",
    "            env.render()\n",
    "\n",
    "            imgarray = np.ndarray.flatten(ob)\n",
    "            \n",
    "            nnOutput = net.activate(imgarray)\n",
    "            \n",
    "            ob, rew, done, info = env.step(nnOutput)\n",
    "\n",
    "# Set the variables you're tracking for reward\n",
    "# With Sonic 3, we're only track 'x'\n",
    "# You can create/change variables using gym-retro-integration (https://www.youtube.com/watch?v=eijRTLh6SBw )\n",
    "\n",
    "            xpos = info['x']       \n",
    "\n",
    "# This gives Sonic +1 fitness for every pixel he moves to the right. this is your fitness function.\n",
    "# This determines how your AI will learn and you can change it however you please!\n",
    "            if xpos > xpos_max:\n",
    "                fitness_current += 1\n",
    "                xpos_max = xpos\n",
    "            \n",
    "# This section determines if the AI has finished a level. If it passes that x position, 100000 is\n",
    "# added to this current genomes fitness, which triggers the network to finish. \n",
    "\n",
    "            if xpos == 12300:\n",
    "                fitness_current += 100000\n",
    "                done = True\n",
    "\n",
    "# if you're not interested in manually setting the fitness function, you can just use += rew\n",
    "           # fitness_current += rew\n",
    "            \n",
    "            if fitness_current > current_max_fitness:\n",
    "                current_max_fitness = fitness_current\n",
    "                counter = 0\n",
    "            else:\n",
    "                counter += 1\n",
    "                \n",
    "            if done or counter == 250:\n",
    "                done = True\n",
    "                print(\"Genome: \", genome_id, \", Fitness Achieved: \", fitness_current)\n",
    "                \n",
    "            genome.fitness = fitness_current"
   ]
  },
  {
   "cell_type": "code",
   "execution_count": 6,
   "metadata": {
    "scrolled": false
   },
   "outputs": [
    {
     "name": "stdout",
     "output_type": "stream",
     "text": [
      "URL transformed to HTTPS due to an HSTS policy\n",
      "--2018-12-28 10:37:39--  https://gitlab.com/lucasrthompson/Sonic-Bot-In-OpenAI-and-NEAT/raw/master/config-feedforward\n",
      "Loaded CA certificate '/etc/ssl/certs/ca-certificates.crt'\n",
      "Resolving gitlab.com (gitlab.com)... 35.231.145.151\n",
      "Connecting to gitlab.com (gitlab.com)|35.231.145.151|:443... connected.\n",
      "HTTP request sent, awaiting response... 200 OK\n",
      "Length: 2060 (2.0K) [text/plain]\n",
      "Saving to: ‘config-feedforward’\n",
      "\n",
      "config-feedforward  100%[===================>]   2.01K  --.-KB/s    in 0s      \n",
      "\n",
      "2018-12-28 10:37:39 (55.6 MB/s) - ‘config-feedforward’ saved [2060/2060]\n",
      "\n"
     ]
    }
   ],
   "source": [
    "# download config-feedfoward, the neat-python configuration\n",
    "!wget http://gitlab.com/lucasrthompson/Sonic-Bot-In-OpenAI-and-NEAT/raw/master/config-feedforward\n",
    "    "
   ]
  },
  {
   "cell_type": "code",
   "execution_count": 7,
   "metadata": {},
   "outputs": [
    {
     "name": "stdout",
     "output_type": "stream",
     "text": [
      "\n",
      " ****** Running generation 0 ****** \n",
      "\n"
     ]
    },
    {
     "name": "stderr",
     "output_type": "stream",
     "text": [
      "/home/lucas/code/tutorials/lib/python3.6/site-packages/neat/aggregations.py:18: RuntimeWarning: overflow encountered in double_scalars\n",
      "  return reduce(mul, x, 1.0)\n",
      "/home/lucas/code/tutorials/lib/python3.6/site-packages/neat/aggregations.py:18: RuntimeWarning: invalid value encountered in double_scalars\n",
      "  return reduce(mul, x, 1.0)\n"
     ]
    },
    {
     "name": "stdout",
     "output_type": "stream",
     "text": [
      "Genome:  1 , Fitness Achieved:  368\n",
      "Genome:  2 , Fitness Achieved:  1\n"
     ]
    },
    {
     "ename": "KeyboardInterrupt",
     "evalue": "",
     "output_type": "error",
     "traceback": [
      "\u001b[0;31m---------------------------------------------------------------------------\u001b[0m",
      "\u001b[0;31mKeyboardInterrupt\u001b[0m                         Traceback (most recent call last)",
      "\u001b[0;32m<ipython-input-7-5ea335f987ac>\u001b[0m in \u001b[0;36m<module>\u001b[0;34m()\u001b[0m\n\u001b[1;32m     19\u001b[0m \u001b[0;34m\u001b[0m\u001b[0m\n\u001b[1;32m     20\u001b[0m \u001b[0;31m# this line runs the previous eval_genomes function. Once done, the best is set to winner\u001b[0m\u001b[0;34m\u001b[0m\u001b[0;34m\u001b[0m\u001b[0m\n\u001b[0;32m---> 21\u001b[0;31m \u001b[0mwinner\u001b[0m \u001b[0;34m=\u001b[0m \u001b[0mp\u001b[0m\u001b[0;34m.\u001b[0m\u001b[0mrun\u001b[0m\u001b[0;34m(\u001b[0m\u001b[0meval_genomes\u001b[0m\u001b[0;34m)\u001b[0m\u001b[0;34m\u001b[0m\u001b[0m\n\u001b[0m\u001b[1;32m     22\u001b[0m \u001b[0;34m\u001b[0m\u001b[0m\n\u001b[1;32m     23\u001b[0m \u001b[0;31m#saves a pickle file of the winning genome.\u001b[0m\u001b[0;34m\u001b[0m\u001b[0;34m\u001b[0m\u001b[0m\n",
      "\u001b[0;32m~/code/tutorials/lib/python3.6/site-packages/neat/population.py\u001b[0m in \u001b[0;36mrun\u001b[0;34m(self, fitness_function, n)\u001b[0m\n\u001b[1;32m     87\u001b[0m \u001b[0;34m\u001b[0m\u001b[0m\n\u001b[1;32m     88\u001b[0m             \u001b[0;31m# Evaluate all genomes using the user-provided function.\u001b[0m\u001b[0;34m\u001b[0m\u001b[0;34m\u001b[0m\u001b[0m\n\u001b[0;32m---> 89\u001b[0;31m             \u001b[0mfitness_function\u001b[0m\u001b[0;34m(\u001b[0m\u001b[0mlist\u001b[0m\u001b[0;34m(\u001b[0m\u001b[0miteritems\u001b[0m\u001b[0;34m(\u001b[0m\u001b[0mself\u001b[0m\u001b[0;34m.\u001b[0m\u001b[0mpopulation\u001b[0m\u001b[0;34m)\u001b[0m\u001b[0;34m)\u001b[0m\u001b[0;34m,\u001b[0m \u001b[0mself\u001b[0m\u001b[0;34m.\u001b[0m\u001b[0mconfig\u001b[0m\u001b[0;34m)\u001b[0m\u001b[0;34m\u001b[0m\u001b[0m\n\u001b[0m\u001b[1;32m     90\u001b[0m \u001b[0;34m\u001b[0m\u001b[0m\n\u001b[1;32m     91\u001b[0m             \u001b[0;31m# Gather and report statistics.\u001b[0m\u001b[0;34m\u001b[0m\u001b[0;34m\u001b[0m\u001b[0m\n",
      "\u001b[0;32m<ipython-input-5-1c564f9fe648>\u001b[0m in \u001b[0;36meval_genomes\u001b[0;34m(genomes, config)\u001b[0m\n\u001b[1;32m     42\u001b[0m             \u001b[0mimgarray\u001b[0m \u001b[0;34m=\u001b[0m \u001b[0mnp\u001b[0m\u001b[0;34m.\u001b[0m\u001b[0mndarray\u001b[0m\u001b[0;34m.\u001b[0m\u001b[0mflatten\u001b[0m\u001b[0;34m(\u001b[0m\u001b[0mob\u001b[0m\u001b[0;34m)\u001b[0m\u001b[0;34m\u001b[0m\u001b[0m\n\u001b[1;32m     43\u001b[0m \u001b[0;34m\u001b[0m\u001b[0m\n\u001b[0;32m---> 44\u001b[0;31m             \u001b[0mnnOutput\u001b[0m \u001b[0;34m=\u001b[0m \u001b[0mnet\u001b[0m\u001b[0;34m.\u001b[0m\u001b[0mactivate\u001b[0m\u001b[0;34m(\u001b[0m\u001b[0mimgarray\u001b[0m\u001b[0;34m)\u001b[0m\u001b[0;34m\u001b[0m\u001b[0m\n\u001b[0m\u001b[1;32m     45\u001b[0m \u001b[0;34m\u001b[0m\u001b[0m\n\u001b[1;32m     46\u001b[0m             \u001b[0mob\u001b[0m\u001b[0;34m,\u001b[0m \u001b[0mrew\u001b[0m\u001b[0;34m,\u001b[0m \u001b[0mdone\u001b[0m\u001b[0;34m,\u001b[0m \u001b[0minfo\u001b[0m \u001b[0;34m=\u001b[0m \u001b[0menv\u001b[0m\u001b[0;34m.\u001b[0m\u001b[0mstep\u001b[0m\u001b[0;34m(\u001b[0m\u001b[0mnnOutput\u001b[0m\u001b[0;34m)\u001b[0m\u001b[0;34m\u001b[0m\u001b[0m\n",
      "\u001b[0;32m~/code/tutorials/lib/python3.6/site-packages/neat/nn/recurrent.py\u001b[0m in \u001b[0;36mactivate\u001b[0;34m(self, inputs)\u001b[0m\n\u001b[1;32m     37\u001b[0m \u001b[0;34m\u001b[0m\u001b[0m\n\u001b[1;32m     38\u001b[0m         \u001b[0;32mfor\u001b[0m \u001b[0mnode\u001b[0m\u001b[0;34m,\u001b[0m \u001b[0mactivation\u001b[0m\u001b[0;34m,\u001b[0m \u001b[0maggregation\u001b[0m\u001b[0;34m,\u001b[0m \u001b[0mbias\u001b[0m\u001b[0;34m,\u001b[0m \u001b[0mresponse\u001b[0m\u001b[0;34m,\u001b[0m \u001b[0mlinks\u001b[0m \u001b[0;32min\u001b[0m \u001b[0mself\u001b[0m\u001b[0;34m.\u001b[0m\u001b[0mnode_evals\u001b[0m\u001b[0;34m:\u001b[0m\u001b[0;34m\u001b[0m\u001b[0m\n\u001b[0;32m---> 39\u001b[0;31m             \u001b[0mnode_inputs\u001b[0m \u001b[0;34m=\u001b[0m \u001b[0;34m[\u001b[0m\u001b[0mivalues\u001b[0m\u001b[0;34m[\u001b[0m\u001b[0mi\u001b[0m\u001b[0;34m]\u001b[0m \u001b[0;34m*\u001b[0m \u001b[0mw\u001b[0m \u001b[0;32mfor\u001b[0m \u001b[0mi\u001b[0m\u001b[0;34m,\u001b[0m \u001b[0mw\u001b[0m \u001b[0;32min\u001b[0m \u001b[0mlinks\u001b[0m\u001b[0;34m]\u001b[0m\u001b[0;34m\u001b[0m\u001b[0m\n\u001b[0m\u001b[1;32m     40\u001b[0m             \u001b[0ms\u001b[0m \u001b[0;34m=\u001b[0m \u001b[0maggregation\u001b[0m\u001b[0;34m(\u001b[0m\u001b[0mnode_inputs\u001b[0m\u001b[0;34m)\u001b[0m\u001b[0;34m\u001b[0m\u001b[0m\n\u001b[1;32m     41\u001b[0m             \u001b[0movalues\u001b[0m\u001b[0;34m[\u001b[0m\u001b[0mnode\u001b[0m\u001b[0;34m]\u001b[0m \u001b[0;34m=\u001b[0m \u001b[0mactivation\u001b[0m\u001b[0;34m(\u001b[0m\u001b[0mbias\u001b[0m \u001b[0;34m+\u001b[0m \u001b[0mresponse\u001b[0m \u001b[0;34m*\u001b[0m \u001b[0ms\u001b[0m\u001b[0;34m)\u001b[0m\u001b[0;34m\u001b[0m\u001b[0m\n",
      "\u001b[0;32m~/code/tutorials/lib/python3.6/site-packages/neat/nn/recurrent.py\u001b[0m in \u001b[0;36m<listcomp>\u001b[0;34m(.0)\u001b[0m\n\u001b[1;32m     37\u001b[0m \u001b[0;34m\u001b[0m\u001b[0m\n\u001b[1;32m     38\u001b[0m         \u001b[0;32mfor\u001b[0m \u001b[0mnode\u001b[0m\u001b[0;34m,\u001b[0m \u001b[0mactivation\u001b[0m\u001b[0;34m,\u001b[0m \u001b[0maggregation\u001b[0m\u001b[0;34m,\u001b[0m \u001b[0mbias\u001b[0m\u001b[0;34m,\u001b[0m \u001b[0mresponse\u001b[0m\u001b[0;34m,\u001b[0m \u001b[0mlinks\u001b[0m \u001b[0;32min\u001b[0m \u001b[0mself\u001b[0m\u001b[0;34m.\u001b[0m\u001b[0mnode_evals\u001b[0m\u001b[0;34m:\u001b[0m\u001b[0;34m\u001b[0m\u001b[0m\n\u001b[0;32m---> 39\u001b[0;31m             \u001b[0mnode_inputs\u001b[0m \u001b[0;34m=\u001b[0m \u001b[0;34m[\u001b[0m\u001b[0mivalues\u001b[0m\u001b[0;34m[\u001b[0m\u001b[0mi\u001b[0m\u001b[0;34m]\u001b[0m \u001b[0;34m*\u001b[0m \u001b[0mw\u001b[0m \u001b[0;32mfor\u001b[0m \u001b[0mi\u001b[0m\u001b[0;34m,\u001b[0m \u001b[0mw\u001b[0m \u001b[0;32min\u001b[0m \u001b[0mlinks\u001b[0m\u001b[0;34m]\u001b[0m\u001b[0;34m\u001b[0m\u001b[0m\n\u001b[0m\u001b[1;32m     40\u001b[0m             \u001b[0ms\u001b[0m \u001b[0;34m=\u001b[0m \u001b[0maggregation\u001b[0m\u001b[0;34m(\u001b[0m\u001b[0mnode_inputs\u001b[0m\u001b[0;34m)\u001b[0m\u001b[0;34m\u001b[0m\u001b[0m\n\u001b[1;32m     41\u001b[0m             \u001b[0movalues\u001b[0m\u001b[0;34m[\u001b[0m\u001b[0mnode\u001b[0m\u001b[0;34m]\u001b[0m \u001b[0;34m=\u001b[0m \u001b[0mactivation\u001b[0m\u001b[0;34m(\u001b[0m\u001b[0mbias\u001b[0m \u001b[0;34m+\u001b[0m \u001b[0mresponse\u001b[0m \u001b[0;34m*\u001b[0m \u001b[0ms\u001b[0m\u001b[0;34m)\u001b[0m\u001b[0;34m\u001b[0m\u001b[0m\n",
      "\u001b[0;31mKeyboardInterrupt\u001b[0m: "
     ]
    }
   ],
   "source": [
    "#Setup config\n",
    "config = neat.Config(neat.DefaultGenome, neat.DefaultReproduction,\n",
    "                     neat.DefaultSpeciesSet, neat.DefaultStagnation,\n",
    "                     'config-feedforward')\n",
    "# creat population\n",
    "p = neat.Population(config)\n",
    "\n",
    "# add reporters so you can get some nice stats\n",
    "p.add_reporter(neat.StdOutReporter(True))\n",
    "stats = neat.StatisticsReporter()\n",
    "p.add_reporter(stats)\n",
    "\n",
    "# save a check point file every 10 iterations\n",
    "p.add_reporter(neat.Checkpointer(10))\n",
    "\n",
    "# if you have already trained some, and want to restore, uncomment this line and change the 'neat-checkpoint-10'\n",
    "# to whichever file you want to use (they'll all be named neat-checkpoint-somenumber)\n",
    "#p = neat.Checkpointer.restore_checkpoint('neat-checkpoint-10')\n",
    "\n",
    "# this line runs the previous eval_genomes function. Once done, the best is set to winner\n",
    "winner = p.run(eval_genomes)\n",
    "\n",
    "#saves a pickle file of the winning genome.\n",
    "with open('winner.pkl', 'wb') as output:\n",
    "    pickle.dump(winner, output, 1)"
   ]
  },
  {
   "cell_type": "code",
   "execution_count": null,
   "metadata": {},
   "outputs": [],
   "source": [
    "# playback winning genome"
   ]
  }
 ],
 "metadata": {
  "kernelspec": {
   "display_name": "Python 3",
   "language": "python",
   "name": "python3"
  },
  "language_info": {
   "codemirror_mode": {
    "name": "ipython",
    "version": 3
   },
   "file_extension": ".py",
   "mimetype": "text/x-python",
   "name": "python",
   "nbconvert_exporter": "python",
   "pygments_lexer": "ipython3",
   "version": "3.6.6"
  }
 },
 "nbformat": 4,
 "nbformat_minor": 2
}
